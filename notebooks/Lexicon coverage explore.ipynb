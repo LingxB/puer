{
 "cells": [
  {
   "cell_type": "code",
   "execution_count": 1,
   "metadata": {},
   "outputs": [
    {
     "data": {
      "text/plain": [
       "'P:\\\\Projects\\\\puer\\\\notebooks'"
      ]
     },
     "execution_count": 1,
     "metadata": {},
     "output_type": "execute_result"
    }
   ],
   "source": [
    "pwd"
   ]
  },
  {
   "cell_type": "code",
   "execution_count": 2,
   "metadata": {},
   "outputs": [
    {
     "name": "stdout",
     "output_type": "stream",
     "text": [
      "P:\\Projects\\puer\n"
     ]
    }
   ],
   "source": [
    "cd .."
   ]
  },
  {
   "cell_type": "code",
   "execution_count": 3,
   "metadata": {},
   "outputs": [
    {
     "name": "stderr",
     "output_type": "stream",
     "text": [
      "P:\\Anaconda3\\lib\\site-packages\\h5py\\__init__.py:36: FutureWarning: Conversion of the second argument of issubdtype from `float` to `np.floating` is deprecated. In future, it will be treated as `np.float64 == np.dtype(float).type`.\n",
      "  from ._conv import register_converters as _register_converters\n"
     ]
    }
   ],
   "source": [
    "from src.utils import load_corpus\n",
    "import pandas as pd\n",
    "from collections import Counter\n",
    "from sklearn.model_selection import KFold"
   ]
  },
  {
   "cell_type": "code",
   "execution_count": 4,
   "metadata": {},
   "outputs": [],
   "source": [
    "def unique_words(corpus):\n",
    "    c = Counter()\n",
    "    for s in corpus:\n",
    "        c.update([w for w in s])\n",
    "    return c\n",
    "\n",
    "def coverage(words, lx_words):\n",
    "    smaller, bigger = (words, lx_words) if len(words) < len(lx_words) else (lx_words, words)\n",
    "    inner_counts = sum([1 for w in smaller if w in bigger])\n",
    "    print(f'inner counts: {inner_counts}')\n",
    "    print(f'words: {len(words)}')\n",
    "    return  inner_counts / len(words)"
   ]
  },
  {
   "cell_type": "markdown",
   "metadata": {},
   "source": [
    "Data"
   ]
  },
  {
   "cell_type": "code",
   "execution_count": 5,
   "metadata": {},
   "outputs": [],
   "source": [
    "train = load_corpus('data/processed/SemEval14/SemEval14_train.csv')\n",
    "test = load_corpus('data/processed/SemEval14/SemEval14_test.csv')"
   ]
  },
  {
   "cell_type": "code",
   "execution_count": 6,
   "metadata": {},
   "outputs": [
    {
     "data": {
      "text/html": [
       "<div>\n",
       "<style scoped>\n",
       "    .dataframe tbody tr th:only-of-type {\n",
       "        vertical-align: middle;\n",
       "    }\n",
       "\n",
       "    .dataframe tbody tr th {\n",
       "        vertical-align: top;\n",
       "    }\n",
       "\n",
       "    .dataframe thead th {\n",
       "        text-align: right;\n",
       "    }\n",
       "</style>\n",
       "<table border=\"1\" class=\"dataframe\">\n",
       "  <thead>\n",
       "    <tr style=\"text-align: right;\">\n",
       "      <th></th>\n",
       "      <th>ASP</th>\n",
       "      <th>CLS</th>\n",
       "      <th>SENT</th>\n",
       "    </tr>\n",
       "  </thead>\n",
       "  <tbody>\n",
       "    <tr>\n",
       "      <th>0</th>\n",
       "      <td>price</td>\n",
       "      <td>1</td>\n",
       "      <td>and cheap !</td>\n",
       "    </tr>\n",
       "    <tr>\n",
       "      <th>1</th>\n",
       "      <td>service</td>\n",
       "      <td>-1</td>\n",
       "      <td>the staff is n't the friendliest or most compe...</td>\n",
       "    </tr>\n",
       "    <tr>\n",
       "      <th>2</th>\n",
       "      <td>service</td>\n",
       "      <td>-1</td>\n",
       "      <td>the service is always bad though , do n't expe...</td>\n",
       "    </tr>\n",
       "    <tr>\n",
       "      <th>3</th>\n",
       "      <td>miscellaneous</td>\n",
       "      <td>1</td>\n",
       "      <td>i absolutely love this place ! ! !</td>\n",
       "    </tr>\n",
       "    <tr>\n",
       "      <th>4</th>\n",
       "      <td>ambience</td>\n",
       "      <td>1</td>\n",
       "      <td>a restaurant that does n't try to do anything ...</td>\n",
       "    </tr>\n",
       "  </tbody>\n",
       "</table>\n",
       "</div>"
      ],
      "text/plain": [
       "             ASP  CLS                                               SENT\n",
       "0          price    1                                        and cheap !\n",
       "1        service   -1  the staff is n't the friendliest or most compe...\n",
       "2        service   -1  the service is always bad though , do n't expe...\n",
       "3  miscellaneous    1                 i absolutely love this place ! ! !\n",
       "4       ambience    1  a restaurant that does n't try to do anything ..."
      ]
     },
     "execution_count": 6,
     "metadata": {},
     "output_type": "execute_result"
    }
   ],
   "source": [
    "train.head()"
   ]
  },
  {
   "cell_type": "code",
   "execution_count": 7,
   "metadata": {},
   "outputs": [
    {
     "data": {
      "text/html": [
       "<div>\n",
       "<style scoped>\n",
       "    .dataframe tbody tr th:only-of-type {\n",
       "        vertical-align: middle;\n",
       "    }\n",
       "\n",
       "    .dataframe tbody tr th {\n",
       "        vertical-align: top;\n",
       "    }\n",
       "\n",
       "    .dataframe thead th {\n",
       "        text-align: right;\n",
       "    }\n",
       "</style>\n",
       "<table border=\"1\" class=\"dataframe\">\n",
       "  <thead>\n",
       "    <tr style=\"text-align: right;\">\n",
       "      <th></th>\n",
       "      <th>ASP</th>\n",
       "      <th>CLS</th>\n",
       "      <th>SENT</th>\n",
       "    </tr>\n",
       "  </thead>\n",
       "  <tbody>\n",
       "    <tr>\n",
       "      <th>0</th>\n",
       "      <td>food</td>\n",
       "      <td>1</td>\n",
       "      <td>the bread is top notch as well .</td>\n",
       "    </tr>\n",
       "    <tr>\n",
       "      <th>1</th>\n",
       "      <td>service</td>\n",
       "      <td>1</td>\n",
       "      <td>i have to say they have one of the fastest del...</td>\n",
       "    </tr>\n",
       "    <tr>\n",
       "      <th>2</th>\n",
       "      <td>food</td>\n",
       "      <td>1</td>\n",
       "      <td>food is always fresh and hot- ready to eat !</td>\n",
       "    </tr>\n",
       "    <tr>\n",
       "      <th>3</th>\n",
       "      <td>food</td>\n",
       "      <td>1</td>\n",
       "      <td>did i mention that the coffee is outstanding ?</td>\n",
       "    </tr>\n",
       "    <tr>\n",
       "      <th>4</th>\n",
       "      <td>ambience</td>\n",
       "      <td>1</td>\n",
       "      <td>certainly not the best sushi in new york , how...</td>\n",
       "    </tr>\n",
       "  </tbody>\n",
       "</table>\n",
       "</div>"
      ],
      "text/plain": [
       "        ASP  CLS                                               SENT\n",
       "0      food    1                   the bread is top notch as well .\n",
       "1   service    1  i have to say they have one of the fastest del...\n",
       "2      food    1       food is always fresh and hot- ready to eat !\n",
       "3      food    1     did i mention that the coffee is outstanding ?\n",
       "4  ambience    1  certainly not the best sushi in new york , how..."
      ]
     },
     "execution_count": 7,
     "metadata": {},
     "output_type": "execute_result"
    }
   ],
   "source": [
    "test.head()"
   ]
  },
  {
   "cell_type": "markdown",
   "metadata": {},
   "source": [
    "### Lexicon"
   ]
  },
  {
   "cell_type": "code",
   "execution_count": 9,
   "metadata": {},
   "outputs": [],
   "source": [
    "lx = pd.read_csv('data/processed/lexicon/lexicon_table.csv')"
   ]
  },
  {
   "cell_type": "code",
   "execution_count": 10,
   "metadata": {},
   "outputs": [
    {
     "data": {
      "text/html": [
       "<div>\n",
       "<style scoped>\n",
       "    .dataframe tbody tr th:only-of-type {\n",
       "        vertical-align: middle;\n",
       "    }\n",
       "\n",
       "    .dataframe tbody tr th {\n",
       "        vertical-align: top;\n",
       "    }\n",
       "\n",
       "    .dataframe thead th {\n",
       "        text-align: right;\n",
       "    }\n",
       "</style>\n",
       "<table border=\"1\" class=\"dataframe\">\n",
       "  <thead>\n",
       "    <tr style=\"text-align: right;\">\n",
       "      <th></th>\n",
       "      <th>WORD</th>\n",
       "      <th>MPQA</th>\n",
       "      <th>OPENER</th>\n",
       "      <th>OL</th>\n",
       "      <th>SWN</th>\n",
       "      <th>VADER</th>\n",
       "    </tr>\n",
       "  </thead>\n",
       "  <tbody>\n",
       "    <tr>\n",
       "      <th>0</th>\n",
       "      <td>$:</td>\n",
       "      <td>-0.375</td>\n",
       "      <td>-0.375</td>\n",
       "      <td>-0.375</td>\n",
       "      <td>-0.375</td>\n",
       "      <td>-0.375</td>\n",
       "    </tr>\n",
       "    <tr>\n",
       "      <th>1</th>\n",
       "      <td>%)</td>\n",
       "      <td>-0.100</td>\n",
       "      <td>-0.100</td>\n",
       "      <td>-0.100</td>\n",
       "      <td>-0.100</td>\n",
       "      <td>-0.100</td>\n",
       "    </tr>\n",
       "    <tr>\n",
       "      <th>2</th>\n",
       "      <td>%-)</td>\n",
       "      <td>-0.375</td>\n",
       "      <td>-0.375</td>\n",
       "      <td>-0.375</td>\n",
       "      <td>-0.375</td>\n",
       "      <td>-0.375</td>\n",
       "    </tr>\n",
       "    <tr>\n",
       "      <th>3</th>\n",
       "      <td>&amp;-:</td>\n",
       "      <td>-0.100</td>\n",
       "      <td>-0.100</td>\n",
       "      <td>-0.100</td>\n",
       "      <td>-0.100</td>\n",
       "      <td>-0.100</td>\n",
       "    </tr>\n",
       "    <tr>\n",
       "      <th>4</th>\n",
       "      <td>&amp;:</td>\n",
       "      <td>-0.175</td>\n",
       "      <td>-0.175</td>\n",
       "      <td>-0.175</td>\n",
       "      <td>-0.175</td>\n",
       "      <td>-0.175</td>\n",
       "    </tr>\n",
       "  </tbody>\n",
       "</table>\n",
       "</div>"
      ],
      "text/plain": [
       "  WORD   MPQA  OPENER     OL    SWN  VADER\n",
       "0   $: -0.375  -0.375 -0.375 -0.375 -0.375\n",
       "1   %) -0.100  -0.100 -0.100 -0.100 -0.100\n",
       "2  %-) -0.375  -0.375 -0.375 -0.375 -0.375\n",
       "3  &-: -0.100  -0.100 -0.100 -0.100 -0.100\n",
       "4   &: -0.175  -0.175 -0.175 -0.175 -0.175"
      ]
     },
     "execution_count": 10,
     "metadata": {},
     "output_type": "execute_result"
    }
   ],
   "source": [
    "lx.head()"
   ]
  },
  {
   "cell_type": "markdown",
   "metadata": {},
   "source": [
    "### Lexicon coverage in train"
   ]
  },
  {
   "cell_type": "code",
   "execution_count": 11,
   "metadata": {},
   "outputs": [],
   "source": [
    "c_train = unique_words(train.SENT.str.split())"
   ]
  },
  {
   "cell_type": "code",
   "execution_count": 12,
   "metadata": {},
   "outputs": [],
   "source": [
    "train_words = dict(c_train.most_common()).keys()"
   ]
  },
  {
   "cell_type": "code",
   "execution_count": 13,
   "metadata": {},
   "outputs": [
    {
     "data": {
      "text/plain": [
       "4435"
      ]
     },
     "execution_count": 13,
     "metadata": {},
     "output_type": "execute_result"
    }
   ],
   "source": [
    "len(train_words)"
   ]
  },
  {
   "cell_type": "code",
   "execution_count": 14,
   "metadata": {},
   "outputs": [
    {
     "data": {
      "text/plain": [
       "153625"
      ]
     },
     "execution_count": 14,
     "metadata": {},
     "output_type": "execute_result"
    }
   ],
   "source": [
    "len(lx)"
   ]
  },
  {
   "cell_type": "code",
   "execution_count": 15,
   "metadata": {},
   "outputs": [
    {
     "name": "stdout",
     "output_type": "stream",
     "text": [
      "inner counts: 2985\n",
      "words: 4435\n"
     ]
    },
    {
     "data": {
      "text/plain": [
       "0.673055242390079"
      ]
     },
     "execution_count": 15,
     "metadata": {},
     "output_type": "execute_result"
    }
   ],
   "source": [
    "coverage(train_words, lx.WORD.tolist())"
   ]
  },
  {
   "cell_type": "markdown",
   "metadata": {},
   "source": [
    "### Lexicon coverage in test"
   ]
  },
  {
   "cell_type": "code",
   "execution_count": 16,
   "metadata": {},
   "outputs": [],
   "source": [
    "c_test = unique_words(test.SENT.str.split())"
   ]
  },
  {
   "cell_type": "code",
   "execution_count": 17,
   "metadata": {},
   "outputs": [],
   "source": [
    "test_words = dict(c_test.most_common()).keys()"
   ]
  },
  {
   "cell_type": "code",
   "execution_count": 18,
   "metadata": {},
   "outputs": [
    {
     "data": {
      "text/plain": [
       "2199"
      ]
     },
     "execution_count": 18,
     "metadata": {},
     "output_type": "execute_result"
    }
   ],
   "source": [
    "len(test_words)"
   ]
  },
  {
   "cell_type": "code",
   "execution_count": 19,
   "metadata": {},
   "outputs": [
    {
     "name": "stdout",
     "output_type": "stream",
     "text": [
      "inner counts: 1575\n",
      "words: 2199\n"
     ]
    },
    {
     "data": {
      "text/plain": [
       "0.7162346521145976"
      ]
     },
     "execution_count": 19,
     "metadata": {},
     "output_type": "execute_result"
    }
   ],
   "source": [
    "coverage(test_words, lx.WORD.tolist())"
   ]
  },
  {
   "cell_type": "markdown",
   "metadata": {},
   "source": [
    "### Lexicon coverage in CV"
   ]
  },
  {
   "cell_type": "code",
   "execution_count": 21,
   "metadata": {},
   "outputs": [],
   "source": [
    "kf = KFold(n_splits=6, shuffle=True, random_state=42)"
   ]
  },
  {
   "cell_type": "code",
   "execution_count": 25,
   "metadata": {},
   "outputs": [
    {
     "name": "stdout",
     "output_type": "stream",
     "text": [
      "-- FOLD1 --\n",
      "inner counts: 2779\n",
      "words: 4086\n",
      "Train coverage: 68.01%\n",
      "inner counts: 1303\n",
      "words: 1788\n",
      "Dev coverage: 72.87%\n",
      "-- FOLD2 --\n",
      "inner counts: 2771\n",
      "words: 4087\n",
      "Train coverage: 67.80%\n",
      "inner counts: 1304\n",
      "words: 1778\n",
      "Dev coverage: 73.34%\n",
      "-- FOLD3 --\n",
      "inner counts: 2763\n",
      "words: 4079\n",
      "Train coverage: 67.74%\n",
      "inner counts: 1312\n",
      "words: 1781\n",
      "Dev coverage: 73.67%\n",
      "-- FOLD4 --\n",
      "inner counts: 2792\n",
      "words: 4113\n",
      "Train coverage: 67.88%\n",
      "inner counts: 1320\n",
      "words: 1784\n",
      "Dev coverage: 73.99%\n",
      "-- FOLD5 --\n",
      "inner counts: 2782\n",
      "words: 4084\n",
      "Train coverage: 68.12%\n",
      "inner counts: 1302\n",
      "words: 1796\n",
      "Dev coverage: 72.49%\n",
      "-- FOLD6 --\n",
      "inner counts: 2825\n",
      "words: 4141\n",
      "Train coverage: 68.22%\n",
      "inner counts: 1238\n",
      "words: 1705\n",
      "Dev coverage: 72.61%\n"
     ]
    }
   ],
   "source": [
    "for k, (train_idx, val_idx) in enumerate(kf.split(train)):\n",
    "    print(f'-- FOLD{k+1} --')\n",
    "    _train, _dev = train.iloc[train_idx],train.iloc[val_idx]\n",
    "    _c_train = unique_words(_train.SENT.str.split())\n",
    "    _train_words = dict(_c_train.most_common()).keys()\n",
    "    _train_cov = coverage(_train_words, lx.WORD.tolist())\n",
    "    print(f'Train coverage: {_train_cov:.2%}')\n",
    "    _c_dev = unique_words(_dev.SENT.str.split())\n",
    "    _dev_words = dict(_c_dev.most_common()).keys()\n",
    "    _dev_cov = coverage(_dev_words, lx.WORD.tolist())\n",
    "    print(f'Dev coverage: {_dev_cov:.2%}')"
   ]
  },
  {
   "cell_type": "code",
   "execution_count": null,
   "metadata": {},
   "outputs": [],
   "source": []
  }
 ],
 "metadata": {
  "kernelspec": {
   "display_name": "Python [conda root]",
   "language": "python",
   "name": "conda-root-py"
  },
  "language_info": {
   "codemirror_mode": {
    "name": "ipython",
    "version": 3
   },
   "file_extension": ".py",
   "mimetype": "text/x-python",
   "name": "python",
   "nbconvert_exporter": "python",
   "pygments_lexer": "ipython3",
   "version": "3.6.5"
  }
 },
 "nbformat": 4,
 "nbformat_minor": 2
}
