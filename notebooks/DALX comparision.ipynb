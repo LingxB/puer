{
 "cells": [
  {
   "cell_type": "code",
   "execution_count": 1,
   "metadata": {},
   "outputs": [
    {
     "data": {
      "text/plain": [
       "'P:\\\\Projects\\\\puer\\\\notebooks'"
      ]
     },
     "execution_count": 1,
     "metadata": {},
     "output_type": "execute_result"
    }
   ],
   "source": [
    "pwd"
   ]
  },
  {
   "cell_type": "code",
   "execution_count": 2,
   "metadata": {},
   "outputs": [
    {
     "name": "stdout",
     "output_type": "stream",
     "text": [
      "P:\\Projects\\puer\n"
     ]
    }
   ],
   "source": [
    "cd .."
   ]
  },
  {
   "cell_type": "code",
   "execution_count": 3,
   "metadata": {},
   "outputs": [],
   "source": [
    "import pandas as pd"
   ]
  },
  {
   "cell_type": "code",
   "execution_count": 39,
   "metadata": {},
   "outputs": [],
   "source": [
    "def find_wrong_idx(df, pred_col='PRED', label_col='CLS'):\n",
    "    wrong_idx = df[df[pred_col] != df[label_col]].index.tolist()\n",
    "    return wrong_idx\n",
    "    \n",
    "def find_improve_idx(base: list, new: list):\n",
    "    return [i for i in base if i not in new]"
   ]
  },
  {
   "cell_type": "code",
   "execution_count": 40,
   "metadata": {},
   "outputs": [],
   "source": [
    "baseline = pd.read_csv('data/score/dalx/baseline.csv')\n",
    "general = pd.read_csv('data/score/dalx/general.csv')\n",
    "gold = pd.read_csv('data/score/dalx/gold_v2.csv')\n",
    "dalx_bi = pd.read_csv('data/score/dalx/dalx_binary.csv')\n",
    "dalx_3w = pd.read_csv('data/score/dalx/dalx_3way.csv')"
   ]
  },
  {
   "cell_type": "code",
   "execution_count": 41,
   "metadata": {},
   "outputs": [],
   "source": [
    "baseline_wrong = find_wrong_idx(baseline) #227\n",
    "general_wrong = find_wrong_idx(general) #207\n",
    "gold_wrong = find_wrong_idx(gold) #209\n",
    "dalx_bi_wrong = find_wrong_idx(dalx_bi) #218\n",
    "dalx_3w_wrong = find_wrong_idx(dalx_3w) #208"
   ]
  },
  {
   "cell_type": "markdown",
   "metadata": {},
   "source": [
    "## General ATLX improvment on baseline"
   ]
  },
  {
   "cell_type": "code",
   "execution_count": 42,
   "metadata": {},
   "outputs": [
    {
     "data": {
      "text/plain": [
       "[54,\n",
       " 111,\n",
       " 141,\n",
       " 154,\n",
       " 185,\n",
       " 207,\n",
       " 240,\n",
       " 245,\n",
       " 264,\n",
       " 269,\n",
       " 279,\n",
       " 320,\n",
       " 325,\n",
       " 367,\n",
       " 368,\n",
       " 420,\n",
       " 463,\n",
       " 477,\n",
       " 524,\n",
       " 531,\n",
       " 532,\n",
       " 543,\n",
       " 587,\n",
       " 588,\n",
       " 589,\n",
       " 600,\n",
       " 601,\n",
       " 602,\n",
       " 647,\n",
       " 666,\n",
       " 674,\n",
       " 707,\n",
       " 718,\n",
       " 719,\n",
       " 767,\n",
       " 796,\n",
       " 797,\n",
       " 804,\n",
       " 806,\n",
       " 897]"
      ]
     },
     "execution_count": 42,
     "metadata": {},
     "output_type": "execute_result"
    }
   ],
   "source": [
    "find_improve_idx(baseline_wrong, general_wrong)"
   ]
  },
  {
   "cell_type": "markdown",
   "metadata": {},
   "source": [
    "## GOLD improvment on general ATLX"
   ]
  },
  {
   "cell_type": "code",
   "execution_count": 43,
   "metadata": {},
   "outputs": [
    {
     "data": {
      "text/plain": [
       "[0,\n",
       " 1,\n",
       " 43,\n",
       " 84,\n",
       " 117,\n",
       " 171,\n",
       " 182,\n",
       " 188,\n",
       " 209,\n",
       " 210,\n",
       " 244,\n",
       " 268,\n",
       " 297,\n",
       " 308,\n",
       " 319,\n",
       " 322,\n",
       " 410,\n",
       " 416,\n",
       " 417,\n",
       " 421,\n",
       " 455,\n",
       " 503,\n",
       " 508,\n",
       " 512,\n",
       " 521,\n",
       " 541,\n",
       " 549,\n",
       " 604,\n",
       " 608,\n",
       " 631,\n",
       " 641,\n",
       " 649,\n",
       " 669,\n",
       " 691,\n",
       " 751,\n",
       " 752,\n",
       " 790,\n",
       " 799,\n",
       " 800,\n",
       " 841,\n",
       " 872,\n",
       " 873,\n",
       " 941]"
      ]
     },
     "execution_count": 43,
     "metadata": {},
     "output_type": "execute_result"
    }
   ],
   "source": [
    "find_improve_idx(general_wrong, gold_wrong)"
   ]
  },
  {
   "cell_type": "markdown",
   "metadata": {},
   "source": [
    "## DALX_binary improvment on general ATLX"
   ]
  },
  {
   "cell_type": "code",
   "execution_count": 49,
   "metadata": {},
   "outputs": [
    {
     "data": {
      "text/plain": [
       "[36,\n",
       " 43,\n",
       " 62,\n",
       " 171,\n",
       " 182,\n",
       " 192,\n",
       " 209,\n",
       " 210,\n",
       " 244,\n",
       " 260,\n",
       " 261,\n",
       " 263,\n",
       " 319,\n",
       " 326,\n",
       " 377,\n",
       " 410,\n",
       " 416,\n",
       " 417,\n",
       " 421,\n",
       " 476,\n",
       " 503,\n",
       " 512,\n",
       " 631,\n",
       " 641,\n",
       " 669,\n",
       " 751,\n",
       " 752,\n",
       " 780,\n",
       " 872,\n",
       " 873,\n",
       " 926,\n",
       " 941,\n",
       " 943]"
      ]
     },
     "execution_count": 49,
     "metadata": {},
     "output_type": "execute_result"
    }
   ],
   "source": [
    "find_improve_idx(general_wrong, dalx_bi_wrong)"
   ]
  },
  {
   "cell_type": "markdown",
   "metadata": {},
   "source": [
    "## DALX_3way improvment on general ATLX"
   ]
  },
  {
   "cell_type": "code",
   "execution_count": 50,
   "metadata": {},
   "outputs": [
    {
     "data": {
      "text/plain": [
       "[44,\n",
       " 51,\n",
       " 62,\n",
       " 84,\n",
       " 117,\n",
       " 171,\n",
       " 182,\n",
       " 184,\n",
       " 188,\n",
       " 192,\n",
       " 244,\n",
       " 308,\n",
       " 319,\n",
       " 410,\n",
       " 476,\n",
       " 512,\n",
       " 649,\n",
       " 799,\n",
       " 800,\n",
       " 862,\n",
       " 926]"
      ]
     },
     "execution_count": 50,
     "metadata": {},
     "output_type": "execute_result"
    }
   ],
   "source": [
    "find_improve_idx(general_wrong, dalx_3w_wrong)"
   ]
  },
  {
   "cell_type": "markdown",
   "metadata": {},
   "source": [
    "## DALX_3way improvement on DALX_binary"
   ]
  },
  {
   "cell_type": "code",
   "execution_count": 51,
   "metadata": {},
   "outputs": [
    {
     "data": {
      "text/plain": [
       "[44,\n",
       " 51,\n",
       " 84,\n",
       " 117,\n",
       " 139,\n",
       " 170,\n",
       " 184,\n",
       " 188,\n",
       " 240,\n",
       " 269,\n",
       " 308,\n",
       " 325,\n",
       " 333,\n",
       " 367,\n",
       " 381,\n",
       " 524,\n",
       " 531,\n",
       " 532,\n",
       " 536,\n",
       " 544,\n",
       " 569,\n",
       " 570,\n",
       " 600,\n",
       " 601,\n",
       " 602,\n",
       " 603,\n",
       " 619,\n",
       " 630,\n",
       " 649,\n",
       " 674,\n",
       " 760,\n",
       " 767,\n",
       " 784,\n",
       " 785,\n",
       " 798,\n",
       " 799,\n",
       " 800,\n",
       " 809,\n",
       " 810,\n",
       " 811,\n",
       " 845,\n",
       " 862,\n",
       " 942]"
      ]
     },
     "execution_count": 51,
     "metadata": {},
     "output_type": "execute_result"
    }
   ],
   "source": [
    "find_improve_idx(dalx_bi_wrong, dalx_3w_wrong)"
   ]
  },
  {
   "cell_type": "code",
   "execution_count": null,
   "metadata": {},
   "outputs": [],
   "source": []
  }
 ],
 "metadata": {
  "kernelspec": {
   "display_name": "Python 3",
   "language": "python",
   "name": "python3"
  },
  "language_info": {
   "codemirror_mode": {
    "name": "ipython",
    "version": 3
   },
   "file_extension": ".py",
   "mimetype": "text/x-python",
   "name": "python",
   "nbconvert_exporter": "python",
   "pygments_lexer": "ipython3",
   "version": "3.6.9"
  }
 },
 "nbformat": 4,
 "nbformat_minor": 4
}
